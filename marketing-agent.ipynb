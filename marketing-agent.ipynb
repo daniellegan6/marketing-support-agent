{
 "cells": [
  {
   "cell_type": "code",
   "execution_count": 1,
   "metadata": {},
   "outputs": [],
   "source": [
    "from langchain_openai import ChatOpenAI\n",
    "llm = ChatOpenAI(model=\"gpt-4\", temperature=0) \n"
   ]
  },
  {
   "cell_type": "code",
   "execution_count": 2,
   "metadata": {},
   "outputs": [],
   "source": [
    "url_input = input('Enter URLs')"
   ]
  },
  {
   "cell_type": "code",
   "execution_count": 3,
   "metadata": {},
   "outputs": [
    {
     "data": {
      "text/plain": [
       "'https://herjustice.org/'"
      ]
     },
     "execution_count": 3,
     "metadata": {},
     "output_type": "execute_result"
    }
   ],
   "source": [
    "url_input"
   ]
  },
  {
   "cell_type": "code",
   "execution_count": 4,
   "metadata": {},
   "outputs": [
    {
     "data": {
      "text/plain": [
       "'https://herjustice.org/'"
      ]
     },
     "execution_count": 4,
     "metadata": {},
     "output_type": "execute_result"
    }
   ],
   "source": [
    "'https://herjustice.org/'"
   ]
  },
  {
   "cell_type": "code",
   "execution_count": 5,
   "metadata": {},
   "outputs": [],
   "source": [
    "from typing import List\n",
    "from typing_extensions import TypedDict\n",
    "from pydantic import BaseModel, Field\n",
    "\n",
    "class Analyst(BaseModel):\n",
    "    affiliation: str = Field(\n",
    "        description=\"Primary affiliation of the analyst.\",\n",
    "    )\n",
    "    name: str = Field(\n",
    "        description=\"Name of the analyst.\"\n",
    "    )\n",
    "    role: str = Field(\n",
    "        description=\"Role of the analyst in the context of the topic.\",\n",
    "    )\n",
    "    description: str = Field(\n",
    "        description=\"Description of the analyst focus, concerns, and motives.\",\n",
    "    )\n",
    "    @property\n",
    "    def persona(self) -> str:\n",
    "        return f\"Name: {self.name}\\nRole: {self.role}\\nAffiliation: {self.affiliation}\\nDescription: {self.description}\\n\"\n",
    "\n",
    "class Perspectives(BaseModel):\n",
    "    analysts: List[Analyst] = Field(\n",
    "        description=\"Comprehensive list of analysts with their roles and affiliations.\",\n",
    "    )\n",
    "\n",
    "class GenerateAnalystsState(TypedDict):\n",
    "    topic: str\n",
    "    analysts: List[Analyst] # Analyst asking questions\n",
    "    human_analyst_feedback: str # Human feedback"
   ]
  },
  {
   "cell_type": "code",
   "execution_count": 6,
   "metadata": {},
   "outputs": [],
   "source": [
    "# def determine_relevant_perspectives(state: AuditGraphState):\n",
    "#     #Analyzes website to determine relevant stakeholder perspectives.\n",
    "    \n",
    "#     system_message = f\"\"\"Analyze the website {state['url']} to determine which stakeholder perspectives are relevant.\n",
    "#     Consider:\n",
    "#     1. Does the organization seek volunteers?\n",
    "#     2. Do they accept donations?\n",
    "#     3. Do they work with foundations?\n",
    "#     4. Do they have beneficiaries?\n",
    "#     5. Do they seek partnerships?\n",
    "    \n",
    "#     Return only relevant perspectives with justification.\"\"\"\n",
    "\n",
    "#     url_tavily_search = initialize_search(state['url'])\n",
    "\n",
    "#     search_docs = url_tavily_search.invoke(f\"site:{state['url']} about mission programs\")\n",
    "#     context = \"\\n\".join([doc['content'] for doc in search_docs])\n",
    "    \n",
    "#     analysis = structured_llm.invoke([\n",
    "#         SystemMessage(content=system_message),\n",
    "#         HumanMessage(content=f\"Based on this content:\\n\\n{context}\")\n",
    "#     ])\n",
    "    \n",
    "#     return {\"relevant_perspectives\": analysis.perspectives}"
   ]
  },
  {
   "cell_type": "markdown",
   "metadata": {},
   "source": [
    "Each persona should analyze the NPO’s online presence and marketing materials to reveal how a specific audience views the organization. \n",
    "Create the following personas, each with a specialized perspective and set of recommendations tailored to enhance the NPO’s appeal to their respective audience.\n",
    "provide a targeted analysis and actionable recommendations based on his unique perspective, ensuring that all insights align with the NPO’s current strategic needs and objectives.\"\"\"    \n"
   ]
  },
  {
   "cell_type": "code",
   "execution_count": 7,
   "metadata": {},
   "outputs": [],
   "source": [
    "from IPython.display import Image, display\n",
    "from langgraph.graph import START, END, StateGraph\n",
    "from langgraph.checkpoint.memory import MemorySaver\n",
    "from langchain_core.messages import AIMessage, HumanMessage, SystemMessage\n",
    "\n",
    "analyst_instructions = \"\"\"You are tasked with creating a set of marketing analyst personas for an NPO.\n",
    "Follow these instructions carefully:\n",
    "\n",
    "1. First, review Non Profit Organizations (NPO's) to provide comprehensive audit of their online presence on their website.\n",
    "\n",
    "2. Examine any insights into which different key players are there in the nonprofit sector—such as Volunteers, Foundations, Donors and others.\n",
    "\n",
    "2. Assign one analyst persona to each key player where each persona represents a unique perspective from the nonprofit sector.\"\"\"\n",
    "\n",
    "# Focus each persona’s insights on areas relevant to the NPO’s current goals and omit those that are not applicable. \n",
    "# For example, if the NPO is not recruiting volunteers, the Volunteer marketing Analyst persona should not be included. \n",
    " \n",
    "\n",
    "def create_analysts(state: GenerateAnalystsState):\n",
    "    \n",
    "    human_analyst_feedback=state.get('human_analyst_feedback', '')\n",
    "    structured_llm = llm.with_structured_output(Perspectives)\n",
    "    system_message = analyst_instructions.format(human_analyst_feedback=human_analyst_feedback)\n",
    "    analysts = structured_llm.invoke([SystemMessage(content=system_message)]+[HumanMessage(content=\"Generate the set of analysts.\")])\n",
    "    \n",
    "    return {\"analysts\": analysts.analysts}\n",
    "\n",
    "def human_feedback(state: GenerateAnalystsState):\n",
    "    pass\n",
    "\n",
    "def should_continue(state: GenerateAnalystsState):\n",
    "    human_analyst_feedback=state.get('human_analyst_feedback', None)\n",
    "    if human_analyst_feedback:\n",
    "        return \"create_analysts\"\n",
    "    \n",
    "    return END"
   ]
  },
  {
   "cell_type": "code",
   "execution_count": 8,
   "metadata": {},
   "outputs": [
    {
     "data": {
      "image/jpeg": "[encoded data removed]",
      "text/plain": [
       "<IPython.core.display.Image object>"
      ]
     },
     "metadata": {},
     "output_type": "display_data"
    }
   ],
   "source": [
    "builder = StateGraph(GenerateAnalystsState)\n",
    "builder.add_node(\"create_analysts\", create_analysts)\n",
    "builder.add_node(\"human_feedback\", human_feedback)\n",
    "builder.add_edge(START, \"create_analysts\")\n",
    "builder.add_edge(\"create_analysts\", \"human_feedback\")\n",
    "builder.add_conditional_edges(\"human_feedback\", should_continue, [\"create_analysts\", END])\n",
    "\n",
    "memory = MemorySaver()\n",
    "graph = builder.compile(interrupt_before=['human_feedback'], checkpointer=memory)\n",
    "\n",
    "display(Image(graph.get_graph(xray=1).draw_mermaid_png()))"
   ]
  },
  {
   "cell_type": "code",
   "execution_count": 9,
   "metadata": {},
   "outputs": [
    {
     "name": "stdout",
     "output_type": "stream",
     "text": [
      "Name: Sarah Thompson\n",
      "Affiliation: Volunteers\n",
      "Role: Volunteer Engagement Analyst\n",
      "Description: Sarah is responsible for analyzing the engagement and satisfaction of volunteers. She uses data to understand volunteer behavior, motivations, and needs. She also identifies opportunities to improve volunteer recruitment and retention strategies.\n",
      "--------------------------------------------------\n",
      "Name: James Wilson\n",
      "Affiliation: Foundations\n",
      "Role: Grant Analyst\n",
      "Description: James specializes in analyzing grant data. He evaluates the effectiveness of grant programs, identifies trends in funding, and provides insights to help foundations make strategic decisions about where to allocate resources.\n",
      "--------------------------------------------------\n",
      "Name: Emily Davis\n",
      "Affiliation: Donors\n",
      "Role: Donor Relations Analyst\n",
      "Description: Emily focuses on analyzing donor data. She tracks donor behavior and trends, identifies potential major donors, and provides insights to improve donor relations and fundraising strategies.\n",
      "--------------------------------------------------\n",
      "Name: John Smith\n",
      "Affiliation: Beneficiaries\n",
      "Role: Impact Analyst\n",
      "Description: John's role is to measure and analyze the impact of the NPO's programs on its beneficiaries. He uses data to understand the effectiveness of programs and to identify areas for improvement.\n",
      "--------------------------------------------------\n",
      "Name: Lisa Johnson\n",
      "Affiliation: Staff\n",
      "Role: Human Resources Analyst\n",
      "Description: Lisa analyzes staff data to understand employee satisfaction, retention, and performance. She provides insights to help the NPO improve its human resources strategies and practices.\n",
      "--------------------------------------------------\n"
     ]
    }
   ],
   "source": [
    "\n",
    "# Input\n",
    "# max_analysts = 3 \n",
    "topic = 'https://herjustice.org/'\n",
    "thread = {\"configurable\": {\"thread_id\": \"1\"}}\n",
    "\n",
    "# Run the graph until the first interru|ption\n",
    "for event in graph.stream({\"topic\":topic,}, thread, stream_mode=\"values\"):\n",
    "    # Review\n",
    "    analysts = event.get('analysts', '')\n",
    "    if analysts:\n",
    "        for analyst in analysts:\n",
    "            print(f\"Name: {analyst.name}\")\n",
    "            print(f\"Affiliation: {analyst.affiliation}\")\n",
    "            print(f\"Role: {analyst.role}\")\n",
    "            print(f\"Description: {analyst.description}\")\n",
    "            print(\"-\" * 50)  \n"
   ]
  },
  {
   "cell_type": "code",
   "execution_count": 10,
   "metadata": {},
   "outputs": [
    {
     "data": {
      "text/plain": [
       "('human_feedback',)"
      ]
     },
     "execution_count": 10,
     "metadata": {},
     "output_type": "execute_result"
    }
   ],
   "source": [
    "# Get state and look at next node\n",
    "state = graph.get_state(thread)\n",
    "state.next\n"
   ]
  },
  {
   "cell_type": "code",
   "execution_count": 11,
   "metadata": {},
   "outputs": [
    {
     "data": {
      "text/plain": [
       "{'configurable': {'thread_id': '1',\n",
       "  'checkpoint_ns': '',\n",
       "  'checkpoint_id': '1efa5a18-8840-6951-8002-74fb9044a30f'}}"
      ]
     },
     "execution_count": 11,
     "metadata": {},
     "output_type": "execute_result"
    }
   ],
   "source": [
    "# We now update the state as if we are the human_feedback node\n",
    "graph.update_state(thread, {\"human_analyst_feedback\": \n",
    "                            \"Add in someone to be Beneficiary analyst to add an Beneficiary perspective about NPO\"}, as_node=\"human_feedback\")"
   ]
  },
  {
   "cell_type": "code",
   "execution_count": 12,
   "metadata": {},
   "outputs": [
    {
     "name": "stdout",
     "output_type": "stream",
     "text": [
      "Name: Sarah Thompson\n",
      "Affiliation: Volunteers\n",
      "Role: Volunteer Engagement Analyst\n",
      "Description: Sarah is responsible for analyzing the engagement and satisfaction of volunteers. She uses data to understand volunteer behavior, motivations, and needs. She also identifies opportunities to improve volunteer recruitment and retention strategies.\n",
      "--------------------------------------------------\n",
      "Name: James Wilson\n",
      "Affiliation: Foundations\n",
      "Role: Grant Analyst\n",
      "Description: James specializes in analyzing grant data. He evaluates the effectiveness of grant programs, identifies trends in funding, and provides insights to help foundations make strategic decisions about where to allocate resources.\n",
      "--------------------------------------------------\n",
      "Name: Emily Davis\n",
      "Affiliation: Donors\n",
      "Role: Donor Relations Analyst\n",
      "Description: Emily focuses on analyzing donor data. She tracks donor behavior and trends, identifies potential major donors, and provides insights to improve donor relations and fundraising strategies.\n",
      "--------------------------------------------------\n",
      "Name: John Smith\n",
      "Affiliation: Beneficiaries\n",
      "Role: Impact Analyst\n",
      "Description: John's role is to measure and analyze the impact of the NPO's programs on its beneficiaries. He uses data to understand the effectiveness of programs and to identify areas for improvement.\n",
      "--------------------------------------------------\n",
      "Name: Lisa Johnson\n",
      "Affiliation: Staff\n",
      "Role: Human Resources Analyst\n",
      "Description: Lisa analyzes staff data to understand employee satisfaction, retention, and performance. She provides insights to help the NPO improve its human resources strategies and practices.\n",
      "--------------------------------------------------\n",
      "Name: Sarah Thompson\n",
      "Affiliation: Volunteers\n",
      "Role: Volunteer Engagement Analyst\n",
      "Description: Sarah is responsible for analyzing the engagement and satisfaction of volunteers. She uses data to understand volunteer behavior, motivations, and needs. She also identifies opportunities to improve volunteer recruitment, retention, and engagement strategies.\n",
      "--------------------------------------------------\n",
      "Name: James Wilson\n",
      "Affiliation: Foundations\n",
      "Role: Grant Analyst\n",
      "Description: James is responsible for analyzing the effectiveness of grant programs. He uses data to understand the impact of grants on the organization's mission and goals. He also identifies opportunities to improve grant application and management processes.\n",
      "--------------------------------------------------\n",
      "Name: Emily Davis\n",
      "Affiliation: Donors\n",
      "Role: Donor Relations Analyst\n",
      "Description: Emily is responsible for analyzing donor behavior and trends. She uses data to understand donor motivations and preferences. She also identifies opportunities to improve donor acquisition, retention, and engagement strategies.\n",
      "--------------------------------------------------\n",
      "Name: John Smith\n",
      "Affiliation: Beneficiaries\n",
      "Role: Beneficiary Impact Analyst\n",
      "Description: John is responsible for analyzing the impact of the organization's programs on its beneficiaries. He uses data to understand the effectiveness of programs and services. He also identifies opportunities to improve program design and delivery.\n",
      "--------------------------------------------------\n",
      "Name: Lisa Johnson\n",
      "Affiliation: Staff\n",
      "Role: Staff Performance Analyst\n",
      "Description: Lisa is responsible for analyzing staff performance and satisfaction. She uses data to understand staff needs and motivations. She also identifies opportunities to improve staff recruitment, retention, and engagement strategies.\n",
      "--------------------------------------------------\n"
     ]
    }
   ],
   "source": [
    "# Continue the graph execution\n",
    "for event in graph.stream(None, thread, stream_mode=\"values\"):\n",
    "    # Review\n",
    "    analysts = event.get('analysts', '')\n",
    "    if analysts:\n",
    "        for analyst in analysts:\n",
    "            print(f\"Name: {analyst.name}\")\n",
    "            print(f\"Affiliation: {analyst.affiliation}\")\n",
    "            print(f\"Role: {analyst.role}\")\n",
    "            print(f\"Description: {analyst.description}\")\n",
    "            print(\"-\" * 50) "
   ]
  },
  {
   "cell_type": "code",
   "execution_count": 13,
   "metadata": {},
   "outputs": [
    {
     "data": {
      "text/plain": [
       "{'configurable': {'thread_id': '1',\n",
       "  'checkpoint_ns': '',\n",
       "  'checkpoint_id': '1efa5a19-3bb3-65da-8004-ced971f256ba'}}"
      ]
     },
     "execution_count": 13,
     "metadata": {},
     "output_type": "execute_result"
    }
   ],
   "source": [
    "# If we are satisfied, then supply no feedback\n",
    "further_feedack = None\n",
    "graph.update_state(thread, {\"human_analyst_feedback\": \n",
    "                            further_feedack}, as_node=\"human_feedback\")"
   ]
  },
  {
   "cell_type": "code",
   "execution_count": 14,
   "metadata": {},
   "outputs": [],
   "source": [
    "# Continue the graph execution to end\n",
    "for event in graph.stream(None, thread, stream_mode=\"updates\"):\n",
    "    print(\"--Node--\")\n",
    "    node_name = next(iter(event.keys()))\n",
    "    print(node_name)"
   ]
  },
  {
   "cell_type": "code",
   "execution_count": 15,
   "metadata": {},
   "outputs": [],
   "source": [
    "final_state = graph.get_state(thread)\n",
    "analysts = final_state.values.get('analysts')"
   ]
  },
  {
   "cell_type": "code",
   "execution_count": 16,
   "metadata": {},
   "outputs": [
    {
     "data": {
      "text/plain": [
       "[Analyst(affiliation='Volunteers', name='Sarah Thompson', role='Volunteer Engagement Analyst', description='Sarah is responsible for analyzing the engagement and satisfaction of volunteers. She uses data to understand volunteer behavior, motivations, and needs. She also identifies opportunities to improve volunteer recruitment, retention, and engagement strategies.'),\n",
       " Analyst(affiliation='Foundations', name='James Wilson', role='Grant Analyst', description=\"James is responsible for analyzing the effectiveness of grant programs. He uses data to understand the impact of grants on the organization's mission and goals. He also identifies opportunities to improve grant application and management processes.\"),\n",
       " Analyst(affiliation='Donors', name='Emily Davis', role='Donor Relations Analyst', description='Emily is responsible for analyzing donor behavior and trends. She uses data to understand donor motivations and preferences. She also identifies opportunities to improve donor acquisition, retention, and engagement strategies.'),\n",
       " Analyst(affiliation='Beneficiaries', name='John Smith', role='Beneficiary Impact Analyst', description=\"John is responsible for analyzing the impact of the organization's programs on its beneficiaries. He uses data to understand the effectiveness of programs and services. He also identifies opportunities to improve program design and delivery.\"),\n",
       " Analyst(affiliation='Staff', name='Lisa Johnson', role='Staff Performance Analyst', description='Lisa is responsible for analyzing staff performance and satisfaction. She uses data to understand staff needs and motivations. She also identifies opportunities to improve staff recruitment, retention, and engagement strategies.')]"
      ]
     },
     "execution_count": 16,
     "metadata": {},
     "output_type": "execute_result"
    }
   ],
   "source": [
    "analysts"
   ]
  },
  {
   "cell_type": "code",
   "execution_count": 17,
   "metadata": {},
   "outputs": [
    {
     "data": {
      "text/plain": [
       "()"
      ]
     },
     "execution_count": 17,
     "metadata": {},
     "output_type": "execute_result"
    }
   ],
   "source": [
    "final_state.next"
   ]
  },
  {
   "cell_type": "code",
   "execution_count": 18,
   "metadata": {},
   "outputs": [
    {
     "name": "stdout",
     "output_type": "stream",
     "text": [
      "Name: Sarah Thompson\n",
      "Affiliation: Volunteers\n",
      "Role: Volunteer Engagement Analyst\n",
      "Description: Sarah is responsible for analyzing the engagement and satisfaction of volunteers. She uses data to understand volunteer behavior, motivations, and needs. She also identifies opportunities to improve volunteer recruitment, retention, and engagement strategies.\n",
      "--------------------------------------------------\n",
      "Name: James Wilson\n",
      "Affiliation: Foundations\n",
      "Role: Grant Analyst\n",
      "Description: James is responsible for analyzing the effectiveness of grant programs. He uses data to understand the impact of grants on the organization's mission and goals. He also identifies opportunities to improve grant application and management processes.\n",
      "--------------------------------------------------\n",
      "Name: Emily Davis\n",
      "Affiliation: Donors\n",
      "Role: Donor Relations Analyst\n",
      "Description: Emily is responsible for analyzing donor behavior and trends. She uses data to understand donor motivations and preferences. She also identifies opportunities to improve donor acquisition, retention, and engagement strategies.\n",
      "--------------------------------------------------\n",
      "Name: John Smith\n",
      "Affiliation: Beneficiaries\n",
      "Role: Beneficiary Impact Analyst\n",
      "Description: John is responsible for analyzing the impact of the organization's programs on its beneficiaries. He uses data to understand the effectiveness of programs and services. He also identifies opportunities to improve program design and delivery.\n",
      "--------------------------------------------------\n",
      "Name: Lisa Johnson\n",
      "Affiliation: Staff\n",
      "Role: Staff Performance Analyst\n",
      "Description: Lisa is responsible for analyzing staff performance and satisfaction. She uses data to understand staff needs and motivations. She also identifies opportunities to improve staff recruitment, retention, and engagement strategies.\n",
      "--------------------------------------------------\n"
     ]
    }
   ],
   "source": [
    "for analyst in analysts:\n",
    "    print(f\"Name: {analyst.name}\")\n",
    "    print(f\"Affiliation: {analyst.affiliation}\")\n",
    "    print(f\"Role: {analyst.role}\")\n",
    "    print(f\"Description: {analyst.description}\")\n",
    "    print(\"-\" * 50) "
   ]
  },
  {
   "cell_type": "markdown",
   "metadata": {},
   "source": [
    "Search State"
   ]
  },
  {
   "cell_type": "code",
   "execution_count": 19,
   "metadata": {},
   "outputs": [],
   "source": [
    "import operator\n",
    "from typing import  Annotated\n",
    "from langgraph.graph import MessagesState\n",
    "\n",
    "class SearchState(MessagesState):\n",
    "    max_num_turns: int # Number turns of conversation\n",
    "    context: Annotated[list, operator.add] # docs\n",
    "    analyst: Analyst \n",
    "    interview: str\n",
    "    sections: list # Final key we duplicate in outer state for Send() API\n",
    "\n",
    "class SearchQuery(BaseModel):\n",
    "    search_query: str = Field(None, description=\"Search query for retrieval.\")"
   ]
  },
  {
   "cell_type": "code",
   "execution_count": 20,
   "metadata": {},
   "outputs": [],
   "source": [
    "analysis_instructions = \"\"\"write a prompt to the analyst agent. each analyst analyze different context: Volunteers, Foundations, Donors, beneficials, Partners and Collaborators and more inside the NPO.\n",
    "create analysts who can be relevant to the organization. \n",
    "For example, an organization that is not looking for volunteers should not be audited on how potential\n",
    "volunteers see it.\n",
    "your goal is to analyze this: {goals} \"\"\"\n",
    "\n",
    "# system_message = analysis_instructions.format(goals=analyst.persona)\n",
    "# analyst_promp = llm.invoke([SystemMessage(content=system_message)])"
   ]
  },
  {
   "cell_type": "code",
   "execution_count": 21,
   "metadata": {},
   "outputs": [],
   "source": [
    "def generate_question(state: SearchState):\n",
    "    analyst = state[\"analyst\"]\n",
    "    messages = state[\"messages\"]\n",
    "\n",
    "    system_message = analysis_instructions.format(goals=analyst.persona)\n",
    "    question = llm.invoke([SystemMessage(content=system_message)]+messages)\n",
    "        \n",
    "    return {\"messages\": [question]}"
   ]
  },
  {
   "cell_type": "code",
   "execution_count": 22,
   "metadata": {},
   "outputs": [],
   "source": [
    "# print(analyst_promp.content)"
   ]
  },
  {
   "cell_type": "code",
   "execution_count": 23,
   "metadata": {},
   "outputs": [],
   "source": [
    "# print(analyst_promp.content)"
   ]
  },
  {
   "cell_type": "markdown",
   "metadata": {},
   "source": [
    "generate answer"
   ]
  },
  {
   "cell_type": "code",
   "execution_count": 24,
   "metadata": {},
   "outputs": [],
   "source": [
    "from langchain_community.tools import TavilySearchResults\n",
    "\n",
    "def initialize_search(url):\n",
    "    return TavilySearchResults(\n",
    "        max_results=4,\n",
    "        include_answer=True,\n",
    "        include_raw_content=True,\n",
    "        include_images=True,\n",
    "        include_domains=[url]\n",
    "    )"
   ]
  },
  {
   "cell_type": "code",
   "execution_count": 25,
   "metadata": {},
   "outputs": [],
   "source": [
    "from langchain_core.messages import get_buffer_string\n",
    "\n",
    "# Search query writing\n",
    "search_instructions = SystemMessage(content=f\"\"\"You will be given a task by an analyst which experts in marketing. \n",
    "\n",
    "Your goal is to generate a well-structured query for use in retrieval and / or web-search related to the task.\n",
    "        \n",
    "First, analyze the full task.\n",
    "\n",
    "Convert this into a well-structured web search query\"\"\")\n",
    "\n",
    "\"\"\" Retrieve docs from web search \"\"\"\n",
    "\n",
    "def search_url(state: SearchState):\n",
    "    \n",
    "    structured_llm = llm.with_structured_output(SearchQuery)\n",
    "    search_query = structured_llm.invoke([search_instructions]+state['messages'])\n",
    "\n",
    "    print(state['context'])\n",
    "    url_tavily_search = initialize_search(state['context'])\n",
    "    search_docs = url_tavily_search.invoke(search_query.search_query)\n",
    "\n",
    "    # Format\n",
    "    formatted_search_docs = \"\\n\\n---\\n\\n\".join(\n",
    "        [\n",
    "            f'<Document href=\"{doc[\"url\"]}\"/>\\n{doc[\"content\"]}\\n</Document>'\n",
    "            for doc in search_docs\n",
    "        ]\n",
    "    )\n",
    "\n",
    "    return {\"context\": [formatted_search_docs]} \n",
    "\n"
   ]
  },
  {
   "cell_type": "code",
   "execution_count": 26,
   "metadata": {},
   "outputs": [],
   "source": [
    "answer_instructions = \"\"\"You are an expert asked question by an analyst who needs to analyze NPO.\n",
    "\n",
    "Here is analyst area of focus: {goals}. \n",
    "        \n",
    "You goal is to answer a question posed by the analyst.\n",
    "\n",
    "To answer question, use this context:\n",
    "        \n",
    "{context}\n",
    "\n",
    "When answering questions, follow these guidelines:\n",
    "        \n",
    "1. Use only the information provided in the context. \n",
    "        \n",
    "2. Do not introduce external information or make assumptions beyond what is explicitly stated in the context.\n",
    "\n",
    "3. The context contain sources at the topic of each individual document.\n",
    "\n",
    "4. Include these sources your answer next to any relevant statements. For example, for source # 1 use [1]. \n",
    "\n",
    "5. List your sources in order at the bottom of your answer. [1] Source 1, [2] Source 2, etc\n",
    "        \n",
    "6. If the source is: <Document source=\"assistant/docs/llama3_1.pdf\" page=\"7\"/>' then just list: \n",
    "        \n",
    "[1] assistant/docs/llama3_1.pdf, page 7 \n",
    "        \n",
    "And skip the addition of the brackets as well as the Document source preamble in your citation.\"\"\"\n",
    "\n",
    "def generate_answer(state: SearchState):\n",
    "    \n",
    "    \"\"\"Generate answers based on retrieved context.\n",
    "    \n",
    "    Args:\n",
    "        state (SearchState): Current state containing messages and context\n",
    "        \n",
    "    Returns:\n",
    "        dict: Updated state with new answer message\n",
    "        \n",
    "    Raises:\n",
    "        ValueError: If required context is missing\n",
    "    \"\"\"\n",
    "    try:\n",
    "        analyst = state[\"analyst\"]\n",
    "        messages = state[\"messages\"]\n",
    "        context = state[\"context\"]\n",
    "        \n",
    "        if not context:\n",
    "            raise ValueError(\"No context available for analysis\")\n",
    "            \n",
    "        system_message = answer_instructions.format(\n",
    "            goals=analyst.persona, \n",
    "            context=context\n",
    "        )\n",
    "        answer = llm.invoke([\n",
    "            SystemMessage(content=system_message)\n",
    "        ] + messages)\n",
    "        \n",
    "        answer.name = \"expert\"\n",
    "        return {\"messages\": [answer]}\n",
    "        \n",
    "    except Exception as e:\n",
    "        print(f\"Error generating answer: {str(e)}\")\n",
    "        return {\"messages\": [\n",
    "            AIMessage(content=\"Unable to generate answer due to error\")\n",
    "        ]}\n",
    "    \n",
    "def save_interview(state: SearchState):\n",
    "    messages = state[\"messages\"]\n",
    "    interview = get_buffer_string(messages)\n",
    "    \n",
    "    return {\"interview\": interview}\n",
    "\n",
    "def route_messages(state: SearchState, \n",
    "                   name: str = \"expert\"):\n",
    "\n",
    "    messages = state[\"messages\"]\n",
    "    max_num_turns = state.get('max_num_turns',2)\n",
    "    num_responses = len(\n",
    "        [m for m in messages if isinstance(m, AIMessage) and m.name == name]\n",
    "    )\n",
    "\n",
    "    # End if expert has answered more than the max turns\n",
    "    if num_responses >= max_num_turns:\n",
    "        return 'save_interview'\n",
    "\n",
    "    # This router is run after each question - answer pair \n",
    "    # Get the last question asked to check if it signals the end of discussion\n",
    "    last_question = messages[-2]\n",
    "    \n",
    "    if \"Thank you so much for your help\" in last_question.content:\n",
    "        return 'save_interview'\n",
    "    return \"ask_question\"\n",
    "\n",
    "section_writer_instructions = \"\"\"You are an expert technical writer. \n",
    "            \n",
    "Your task is to create a short, easily digestible section of a report based on a set of source documents.\n",
    "\n",
    "1. Analyze the content of the source documents: \n",
    "- The name of each source document is at the start of the document, with the <Document tag.\n",
    "        \n",
    "2. Create a report structure using markdown formatting:\n",
    "- Use ## for the section title\n",
    "- Use ### for sub-section headers\n",
    "        \n",
    "3. Write the report following this structure:\n",
    "a. Title (## header)\n",
    "b. Summary (### header)\n",
    "c. Sources (### header)\n",
    "\n",
    "4. Make your title engaging based upon the focus area of the analyst: \n",
    "{focus}\n",
    "\n",
    "5. For the summary section:\n",
    "- Set up summary with general background / context related to the focus area of the analyst\n",
    "- Emphasize what is novel, interesting, or surprising about insights gathered from the interview\n",
    "- Create a numbered list of source documents, as you use them\n",
    "- Do not mention the names of interviewers or experts\n",
    "- Aim for approximately 400 words maximum\n",
    "- Use numbered sources in your report (e.g., [1], [2]) based on information from source documents\n",
    "        \n",
    "6. In the Sources section:\n",
    "- Include all sources used in your report\n",
    "- Provide full links to relevant websites or specific document paths\n",
    "- Separate each source by a newline. Use two spaces at the end of each line to create a newline in Markdown.\n",
    "- It will look like:\n",
    "\n",
    "### Sources\n",
    "[1] Link or Document name\n",
    "[2] Link or Document name\n",
    "\n",
    "7. Be sure to combine sources. For example this is not correct:\n",
    "\n",
    "[3] https://ai.meta.com/blog/meta-llama-3-1/\n",
    "[4] https://ai.meta.com/blog/meta-llama-3-1/\n",
    "\n",
    "There should be no redundant sources. It should simply be:\n",
    "\n",
    "[3] https://ai.meta.com/blog/meta-llama-3-1/\n",
    "        \n",
    "8. Final review:\n",
    "- Ensure the report follows the required structure\n",
    "- Include no preamble before the title of the report\n",
    "- Check that all guidelines have been followed\"\"\"\n",
    "\n",
    "def write_section(state: SearchState):\n",
    "\n",
    "    interview = state[\"interview\"]\n",
    "    context = state[\"context\"]\n",
    "    analyst = state[\"analyst\"]\n",
    "   \n",
    "    system_message = section_writer_instructions.format(focus=analyst.description)\n",
    "    section = llm.invoke([SystemMessage(content=system_message)]+[HumanMessage(content=f\"Use this source to write your section: {context}\")]) \n",
    "                \n",
    "    return {\"sections\": [section.content]}\n"
   ]
  },
  {
   "cell_type": "code",
   "execution_count": 27,
   "metadata": {},
   "outputs": [
    {
     "data": {
      "image/jpeg": "[encoded data removed]",
      "text/plain": [
       "<IPython.core.display.Image object>"
      ]
     },
     "metadata": {},
     "output_type": "display_data"
    }
   ],
   "source": [
    "analysis_builder = StateGraph(SearchState)\n",
    "analysis_builder.add_node(\"ask_question\", generate_question)\n",
    "analysis_builder.add_node(\"search_url\", search_url)\n",
    "analysis_builder.add_node(\"answer_question\", generate_answer)\n",
    "analysis_builder.add_node(\"save_interview\", save_interview)\n",
    "analysis_builder.add_node(\"write_section\", write_section)\n",
    "\n",
    "analysis_builder.add_edge(START, \"ask_question\")\n",
    "analysis_builder.add_edge(\"ask_question\", \"search_url\")\n",
    "analysis_builder.add_edge(\"search_url\", \"answer_question\")\n",
    "analysis_builder.add_conditional_edges(\"answer_question\", route_messages,['ask_question','save_interview'])\n",
    "analysis_builder.add_edge(\"save_interview\", \"write_section\")\n",
    "analysis_builder.add_edge(\"write_section\", END)\n",
    "\n",
    "memory = MemorySaver()\n",
    "analysis_graph = analysis_builder.compile(checkpointer=memory).with_config(run_name=\"Conduct Analysis\")\n",
    "\n",
    "display(Image(analysis_graph.get_graph().draw_mermaid_png()))"
   ]
  },
  {
   "cell_type": "code",
   "execution_count": 28,
   "metadata": {},
   "outputs": [],
   "source": [
    "# from IPython.display import Markdown\n",
    "# messages = [HumanMessage(f\"So you said you were writing an article on {topic}?\")]\n",
    "# thread = {\"configurable\": {\"thread_id\": \"1\"}}\n",
    "# interview = analysis_graph.invoke({\"analyst\": analysts[0], \"messages\": messages, \"max_num_turns\": 2}, thread)\n",
    "# Markdown(interview['sections'][0])"
   ]
  },
  {
   "cell_type": "code",
   "execution_count": 29,
   "metadata": {},
   "outputs": [],
   "source": [
    "import operator\n",
    "from typing import List, Annotated\n",
    "from typing_extensions import TypedDict, Optional\n",
    "\n",
    "class AuditGraphState(TypedDict):\n",
    "    url: str # Research topic\n",
    "    max_analysts: int # Number of analysts\n",
    "    human_analyst_feedback: Optional[str]\n",
    "    analysts: List[Analyst] # Analyst asking questions\n",
    "    sections: Annotated[list, operator.add] # Send() API key\n",
    "    introduction: str # Introduction for the final report\n",
    "    content: str # Content for the final report\n",
    "    conclusion: str # Conclusion for the final report\n",
    "    final_report: str # Final report"
   ]
  },
  {
   "cell_type": "code",
   "execution_count": 30,
   "metadata": {},
   "outputs": [
    {
     "data": {
      "image/jpeg": "[encoded data removed]",
      "text/plain": [
       "<IPython.core.display.Image object>"
      ]
     },
     "metadata": {},
     "output_type": "display_data"
    }
   ],
   "source": [
    "from langgraph.constants import Send\n",
    "\n",
    "def initiate_all_analyst(state: AuditGraphState):\n",
    "    \"\"\" This is the \"map\" step where we run each interview sub-graph using Send API \"\"\"    \n",
    "\n",
    "    human_analyst_feedback=state.get('human_analyst_feedback')\n",
    "    if human_analyst_feedback:\n",
    "        # Return to create_analysts\n",
    "        return \"create_analysts\"\n",
    "\n",
    "    else:\n",
    "        url = state[\"url\"]\n",
    "        return [Send(\"conduct_analysis\", {\"analyst\": analyst,\n",
    "                                           \"messages\": [HumanMessage(\n",
    "                                               content=f\"So you said you were writing an audit on the NPO {url}?\"\n",
    "                                           )\n",
    "                                                       ]}) for analyst in state[\"analysts\"]]\n",
    "\n",
    "report_writer_instructions = \"\"\"You are a member of Maggie’s marketing analysis team and your task  is to provides a comprehensive audit of \n",
    "online presence on the NPO's website.\n",
    "    \n",
    "You have a team of analysts. Each analyst has done three things: \n",
    "\n",
    "1. They analyzed how different key players in the nonprofit sector-perceive them buy their specific sub-topic.\n",
    "2. They provided actionable recommendations based on their unique perspective, ensuring that all insights align with the NPO’s current strategic needs and objectives.\n",
    "3. They write up their finding into a memo.\n",
    "\n",
    "Your task: \n",
    "\n",
    "1. You will be given a collection of memos from your analysts.\n",
    "2. Think carefully about the insights from each memo.\n",
    "3. Consolidate these into a crisp overall summary that ties together the central ideas from all of the memos. \n",
    "4. Summarize the central points in each memo into a cohesive single narrative for each persona (audience) \n",
    "\n",
    "To format your report:\n",
    " \n",
    "1. Use markdown formatting. \n",
    "2. Include no pre-amble for the report.\n",
    "3. Use no sub-heading. \n",
    "4. Start your report with a single title header: ## Insights\n",
    "5. Do not mention any analyst names in your report.\n",
    "6. Preserve any citations in the memos, which will be annotated in brackets, for example [1] or [2].\n",
    "7. Create a final, consolidated list of sources and add to a Sources section with the `## Sources` header.\n",
    "8. List your sources in order and do not repeat.\n",
    "\n",
    "[1] Source 1\n",
    "[2] Source 2\n",
    "\n",
    "Here are the memos from your analysts to build your report from: \n",
    "\n",
    "{context}\"\"\"\n",
    "\n",
    "def write_report(state: AuditGraphState):\n",
    "    sections = state[\"sections\"]\n",
    "    url = state[\"url\"]\n",
    "\n",
    "    formatted_str_sections = \"\\n\\n\".join([f\"{section}\" for section in sections])\n",
    "    \n",
    "    system_message = report_writer_instructions.format(url=url, context=formatted_str_sections)    \n",
    "    report = llm.invoke([SystemMessage(content=system_message)]+[HumanMessage(content=f\"Write a report based upon these memos.\")]) \n",
    "    return {\"content\": report.content}\n",
    "\n",
    "intro_conclusion_instructions = \"\"\"You are a technical writer finishing a report on NPO with the url {url}\n",
    "\n",
    "You will be given all of the sections of the report.\n",
    "\n",
    "You job is to write a crisp and compelling introduction or conclusion section.\n",
    "\n",
    "The user will instruct you whether to write the introduction or conclusion.\n",
    "\n",
    "Include no pre-amble for either section.\n",
    "\n",
    "Target around 100 words, crisply previewing (for introduction) or recapping (for conclusion) all of the sections of the report.\n",
    "\n",
    "Use markdown formatting. \n",
    "\n",
    "For your introduction, create a compelling title and use the # header for the title.\n",
    "\n",
    "For your introduction, use ## Introduction as the section header. \n",
    "\n",
    "For your conclusion, use ## Conclusion as the section header.\n",
    "\n",
    "Here are the sections to reflect on for writing: {formatted_str_sections}\"\"\"\n",
    "\n",
    "def write_introduction(state: AuditGraphState):\n",
    "    sections = state[\"sections\"]\n",
    "    url = state[\"url\"]\n",
    "\n",
    "    formatted_str_sections = \"\\n\\n\".join([f\"{section}\" for section in sections])\n",
    "    \n",
    "    \n",
    "    instructions = intro_conclusion_instructions.format(url=url, formatted_str_sections=formatted_str_sections)    \n",
    "    intro = llm.invoke([instructions]+[HumanMessage(content=f\"Write the report introduction\")]) \n",
    "    return {\"introduction\": intro.content}\n",
    "\n",
    "def write_conclusion(state: AuditGraphState):\n",
    "    sections = state[\"sections\"]\n",
    "    url = state[\"url\"]\n",
    "    formatted_str_sections = \"\\n\\n\".join([f\"{section}\" for section in sections])\n",
    "    instructions = intro_conclusion_instructions.format(url=url, formatted_str_sections=formatted_str_sections)    \n",
    "    conclusion = llm.invoke([instructions]+[HumanMessage(content=f\"Write the report conclusion\")]) \n",
    "    return {\"conclusion\": conclusion.content}\n",
    "\n",
    "def finalize_report(state: AuditGraphState):\n",
    "    content = state[\"content\"]\n",
    "    if content.startswith(\"## Insights\"):\n",
    "        content = content.strip(\"## Insights\")\n",
    "    if \"## Sources\" in content:\n",
    "        try:\n",
    "            content, sources = content.split(\"\\n## Sources\\n\")\n",
    "        except:\n",
    "            sources = None\n",
    "    else:\n",
    "        sources = None\n",
    "\n",
    "    final_report = state[\"introduction\"] + \"\\n\\n---\\n\\n\" + content + \"\\n\\n---\\n\\n\" + state[\"conclusion\"]\n",
    "    if sources is not None:\n",
    "        final_report += \"\\n\\n## Sources\\n\" + sources\n",
    "    print(\"Final Report:\", final_report)  # Debugging\n",
    "    state[\"final_report\"] = final_report  # Ensure state is updated\n",
    "    return state\n",
    "\n",
    "\n",
    "initial_state: AuditGraphState = {\n",
    "    \"url\": url_input,\n",
    "    \"max_analysts\": 3,\n",
    "    \"human_analyst_feedback\": None,\n",
    "    \"analysts\": [],\n",
    "    \"sections\": [],\n",
    "    \"introduction\": \"\",\n",
    "    \"content\": \"\",\n",
    "    \"conclusion\": \"\",\n",
    "    \"final_report\": \"\"\n",
    "}\n",
    "\n",
    "builder = StateGraph(AuditGraphState)\n",
    "builder.add_node(\"create_analysts\", create_analysts)\n",
    "builder.add_node(\"human_feedback\", human_feedback)\n",
    "builder.add_node(\"conduct_analysis\", analysis_builder.compile())\n",
    "builder.add_node(\"write_report\",write_report)\n",
    "builder.add_node(\"write_introduction\",write_introduction)\n",
    "builder.add_node(\"write_conclusion\",write_conclusion)\n",
    "builder.add_node(\"finalize_report\",finalize_report)\n",
    "\n",
    "builder.add_edge(START, \"create_analysts\")\n",
    "builder.add_edge(\"create_analysts\", \"human_feedback\")\n",
    "builder.add_conditional_edges(\"human_feedback\", initiate_all_analyst, [\"create_analysts\", \"conduct_analysis\"])\n",
    "builder.add_edge(\"conduct_analysis\", \"write_report\")\n",
    "builder.add_edge(\"conduct_analysis\", \"write_introduction\")\n",
    "builder.add_edge(\"conduct_analysis\", \"write_conclusion\")\n",
    "builder.add_edge([\"write_conclusion\", \"write_report\", \"write_introduction\"], \"finalize_report\")\n",
    "builder.add_edge(\"finalize_report\", END)\n",
    "\n",
    "memory = MemorySaver()\n",
    "graph = builder.compile(interrupt_before=['human_feedback'], checkpointer=memory)\n",
    "display(Image(graph.get_graph(xray=1).draw_mermaid_png()))"
   ]
  },
  {
   "cell_type": "code",
   "execution_count": 31,
   "metadata": {},
   "outputs": [
    {
     "name": "stdout",
     "output_type": "stream",
     "text": [
      "Name: Sarah Thompson\n",
      "Affiliation: Volunteers\n",
      "Role: Volunteer Engagement Analyst\n",
      "Description: Sarah is responsible for analyzing the engagement and satisfaction of volunteers. She uses data to understand the motivations of volunteers, their experiences, and their retention rates. She also identifies opportunities to improve volunteer recruitment and engagement strategies.\n",
      "--------------------------------------------------\n",
      "Name: James Wilson\n",
      "Affiliation: Foundations\n",
      "Role: Grant Analyst\n",
      "Description: James works closely with foundations to analyze the effectiveness of grant programs. He evaluates the impact of grants on the NPO's mission and identifies areas for improvement. He also provides insights into potential new funding opportunities.\n",
      "--------------------------------------------------\n",
      "Name: Emily Davis\n",
      "Affiliation: Donors\n",
      "Role: Donor Relations Analyst\n",
      "Description: Emily's role is to analyze donor trends and behaviors. She uses this information to develop strategies to increase donor retention and acquisition. She also works to understand the impact of different fundraising strategies on donor engagement.\n",
      "--------------------------------------------------\n",
      "Name: John Smith\n",
      "Affiliation: Beneficiaries\n",
      "Role: Beneficiary Impact Analyst\n",
      "Description: John's role is to analyze the impact of the NPO's programs on its beneficiaries. He uses data to understand the effectiveness of different programs and to identify areas for improvement. He also works to understand the needs and experiences of beneficiaries.\n",
      "--------------------------------------------------\n"
     ]
    }
   ],
   "source": [
    "thread = {\"configurable\": {\"thread_id\": \"1\"}}\n",
    "for event in graph.stream(initial_state, thread, stream_mode=\"values\"):\n",
    "    analysts = event.get('analysts', '')\n",
    "    if analysts:\n",
    "        for analyst in analysts:\n",
    "            print(f\"Name: {analyst.name}\")\n",
    "            print(f\"Affiliation: {analyst.affiliation}\")\n",
    "            print(f\"Role: {analyst.role}\")\n",
    "            print(f\"Description: {analyst.description}\")\n",
    "            print(\"-\" * 50)\n"
   ]
  },
  {
   "cell_type": "code",
   "execution_count": 32,
   "metadata": {},
   "outputs": [
    {
     "name": "stdout",
     "output_type": "stream",
     "text": [
      "Final Report Content: \n",
      "No report generated.\n"
     ]
    }
   ],
   "source": [
    "final_state = graph.get_state(thread)\n",
    "report = final_state.values.get('final_report')\n",
    "print(\"Final Report Content:\", report)\n",
    "\n",
    "if report:\n",
    "    display(Markdown(report))\n",
    "else:\n",
    "    print(\"No report generated.\")"
   ]
  }
 ],
 "metadata": {
  "kernelspec": {
   "display_name": "support-agent-env",
   "language": "python",
   "name": "python3"
  },
  "language_info": {
   "codemirror_mode": {
    "name": "ipython",
    "version": 3
   },
   "file_extension": ".py",
   "mimetype": "text/x-python",
   "name": "python",
   "nbconvert_exporter": "python",
   "pygments_lexer": "ipython3",
   "version": "3.11.5"
  }
 },
 "nbformat": 4,
 "nbformat_minor": 2
}
